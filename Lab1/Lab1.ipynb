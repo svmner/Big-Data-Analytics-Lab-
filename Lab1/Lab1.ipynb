{
 "cells": [
  {
   "cell_type": "code",
   "execution_count": 1,
   "metadata": {},
   "outputs": [],
   "source": [
    "from pyspark.sql import SparkSession\n",
    "from pyspark.sql.functions import col"
   ]
  },
  {
   "cell_type": "markdown",
   "metadata": {},
   "source": [
    "# Write a PySpark program to square set of integers."
   ]
  },
  {
   "cell_type": "code",
   "execution_count": 16,
   "metadata": {},
   "outputs": [
    {
     "name": "stderr",
     "output_type": "stream",
     "text": [
      "/home/lplab/anaconda3/lib/python3.7/site-packages/pyspark/context.py:317: FutureWarning: Python 3.7 support is deprecated in Spark 3.4.\n",
      "  warnings.warn(\"Python 3.7 support is deprecated in Spark 3.4.\", FutureWarning)\n"
     ]
    },
    {
     "name": "stdout",
     "output_type": "stream",
     "text": [
      "+-------+-------+\n",
      "|numbers|squared|\n",
      "+-------+-------+\n",
      "|      1|    1.0|\n",
      "|      2|    4.0|\n",
      "|      3|    9.0|\n",
      "|      4|   16.0|\n",
      "|      5|   25.0|\n",
      "+-------+-------+\n",
      "\n"
     ]
    }
   ],
   "source": [
    "spark = SparkSession.builder.appName(\"SquareIntegers\").getOrCreate()\n",
    "integers =[1,2,3,4,5]\n",
    "df=spark.createDataFrame([(i,) for i in integers],[\"numbers\"])\n",
    "squared_df = df.withColumn(\"squared\", col(\"numbers\") ** 2)\n",
    "squared_df.show()\n",
    "spark.stop()"
   ]
  },
  {
   "cell_type": "markdown",
   "metadata": {},
   "source": [
    "# Write a PySpark program to find the maximum of given set of numbers.\n",
    "\n",
    "''' function used to find the maximum value is df.agg({\"value\": \"max\"}).collect()[0][\"max(value)\"]"
   ]
  },
  {
   "cell_type": "code",
   "execution_count": 17,
   "metadata": {},
   "outputs": [],
   "source": [
    "from pyspark.sql.functions import max"
   ]
  },
  {
   "cell_type": "code",
   "execution_count": 18,
   "metadata": {},
   "outputs": [
    {
     "name": "stderr",
     "output_type": "stream",
     "text": [
      "/home/lplab/anaconda3/lib/python3.7/site-packages/pyspark/context.py:317: FutureWarning: Python 3.7 support is deprecated in Spark 3.4.\n",
      "  warnings.warn(\"Python 3.7 support is deprecated in Spark 3.4.\", FutureWarning)\n"
     ]
    },
    {
     "name": "stdout",
     "output_type": "stream",
     "text": [
      "Maximum_no:  5\n"
     ]
    }
   ],
   "source": [
    "spark = SparkSession.builder.appName(\"Maximum_of_Integers\").getOrCreate()\n",
    "integers =[1,2,3,4,5]\n",
    "df=spark.createDataFrame([(i,) for i in integers],[\"numbers\"])\n",
    "max_df=  df.agg(max(col(\"numbers\"))).collect()[0][0]\n",
    "print(\"Maximum_no: \", max_df)\n",
    "spark.stop()"
   ]
  },
  {
   "cell_type": "markdown",
   "metadata": {},
   "source": [
    "# Write a PySpark program to find average of N numbers.\n",
    "\n",
    "Function to find the average of given numbers: \n",
    "\n",
    "df.agg({\"value\": \"mean\"}).collect()[0][\"avg(value)\"]\n"
   ]
  },
  {
   "cell_type": "code",
   "execution_count": 23,
   "metadata": {},
   "outputs": [],
   "source": [
    "from pyspark.sql.functions import mean"
   ]
  },
  {
   "cell_type": "code",
   "execution_count": 25,
   "metadata": {},
   "outputs": [
    {
     "name": "stderr",
     "output_type": "stream",
     "text": [
      "/home/lplab/anaconda3/lib/python3.7/site-packages/pyspark/context.py:317: FutureWarning: Python 3.7 support is deprecated in Spark 3.4.\n",
      "  warnings.warn(\"Python 3.7 support is deprecated in Spark 3.4.\", FutureWarning)\n"
     ]
    },
    {
     "name": "stdout",
     "output_type": "stream",
     "text": [
      "Average:  3.0\n"
     ]
    }
   ],
   "source": [
    "spark = SparkSession.builder.appName(\"Average_of_Integers\").getOrCreate()\n",
    "integers =[1,2,3,4,5]\n",
    "df=spark.createDataFrame([(i,) for i in integers],[\"numbers\"])\n",
    "average_value = df.agg(mean(col(\"numbers\"))).collect()[0][0]\n",
    "print(\"Average: \", average_value)\n",
    "spark.stop()"
   ]
  },
  {
   "cell_type": "markdown",
   "metadata": {},
   "source": [
    "# Demonstrate how to read a CSV file into a PySpark DataFrame."
   ]
  },
  {
   "cell_type": "code",
   "execution_count": 26,
   "metadata": {},
   "outputs": [
    {
     "name": "stderr",
     "output_type": "stream",
     "text": [
      "/home/lplab/anaconda3/lib/python3.7/site-packages/pyspark/context.py:317: FutureWarning: Python 3.7 support is deprecated in Spark 3.4.\n",
      "  warnings.warn(\"Python 3.7 support is deprecated in Spark 3.4.\", FutureWarning)\n"
     ]
    },
    {
     "name": "stdout",
     "output_type": "stream",
     "text": [
      "+------+-----+\n",
      "|Reg_no|Score|\n",
      "+------+-----+\n",
      "|     1|   12|\n",
      "|     2|   13|\n",
      "|     3|   15|\n",
      "|     4|   12|\n",
      "|     5|   14|\n",
      "+------+-----+\n",
      "\n"
     ]
    }
   ],
   "source": [
    "spark = SparkSession.builder.appName(\"Read_CSV_file\").getOrCreate()\n",
    "\n",
    "#specify the csv_file_path\n",
    "path = \"/home/lplab/Desktop/210962087/Lab1/lab1.csv\"\n",
    "\n",
    "# read csv file\n",
    "\n",
    "df = spark.read.csv(path,header=True, inferSchema=True)\n",
    "df.show()\n",
    "spark.stop()\n"
   ]
  },
  {
   "cell_type": "markdown",
   "metadata": {},
   "source": [
    "# Use PySpark commands to display the first few rows and schema of a DataFrame."
   ]
  },
  {
   "cell_type": "code",
   "execution_count": 27,
   "metadata": {},
   "outputs": [
    {
     "name": "stderr",
     "output_type": "stream",
     "text": [
      "/home/lplab/anaconda3/lib/python3.7/site-packages/pyspark/context.py:317: FutureWarning: Python 3.7 support is deprecated in Spark 3.4.\n",
      "  warnings.warn(\"Python 3.7 support is deprecated in Spark 3.4.\", FutureWarning)\n"
     ]
    },
    {
     "name": "stdout",
     "output_type": "stream",
     "text": [
      "+------+-----+\n",
      "|Reg_no|Score|\n",
      "+------+-----+\n",
      "|     1|   12|\n",
      "|     2|   13|\n",
      "|     3|   15|\n",
      "+------+-----+\n",
      "only showing top 3 rows\n",
      "\n",
      "root\n",
      " |-- Reg_no: integer (nullable = true)\n",
      " |-- Score: integer (nullable = true)\n",
      "\n"
     ]
    }
   ],
   "source": [
    "spark = SparkSession.builder.appName(\"Read_CSV_file\").getOrCreate()\n",
    "\n",
    "#specify the csv_file_path\n",
    "path = \"/home/lplab/Desktop/210962087/Lab1/lab1.csv\"\n",
    "\n",
    "# read csv file\n",
    "\n",
    "df = spark.read.csv(path,header=True, inferSchema=True)\n",
    "\n",
    "#show few rows\n",
    "df.show(3)\n",
    "\n",
    "#show the schema \n",
    "df.printSchema()\n",
    "\n",
    "spark.stop()\n"
   ]
  },
  {
   "cell_type": "markdown",
   "metadata": {},
   "source": [
    "# Calculate basic summary statistics for a specific column in the DataFrame."
   ]
  },
  {
   "cell_type": "code",
   "execution_count": 29,
   "metadata": {},
   "outputs": [
    {
     "name": "stdout",
     "output_type": "stream",
     "text": [
      "+-------+------------------+\n",
      "|summary|             score|\n",
      "+-------+------------------+\n",
      "|  count|                 5|\n",
      "|   mean|              13.2|\n",
      "| stddev|1.3038404810405297|\n",
      "|    min|                12|\n",
      "|    max|                15|\n",
      "+-------+------------------+\n",
      "\n"
     ]
    }
   ],
   "source": [
    "spark = SparkSession.builder.appName(\"Read_CSV_file\").getOrCreate()\n",
    "\n",
    "#specify the csv_file_path\n",
    "path = \"/home/lplab/Desktop/210962087/Lab1/lab1.csv\"\n",
    "\n",
    "# read csv file\n",
    "df = spark.read.csv(path,header=True, inferSchema=True)\n",
    "\n",
    "\n",
    "# Specify the column for which you want to calculate summary statistics\n",
    "selected_column = \"score\"  # Replace with the actual column name\n",
    "\n",
    "# Calculate summary statistics for the specified column\n",
    "summary_statistics = df.select(selected_column).describe()\n",
    "\n",
    "# Show the summary statistics\n",
    "summary_statistics.show()\n",
    "\n",
    "spark.stop()\n"
   ]
  },
  {
   "cell_type": "code",
   "execution_count": null,
   "metadata": {},
   "outputs": [],
   "source": []
  }
 ],
 "metadata": {
  "kernelspec": {
   "display_name": "Python 3",
   "language": "python",
   "name": "python3"
  },
  "language_info": {
   "codemirror_mode": {
    "name": "ipython",
    "version": 3
   },
   "file_extension": ".py",
   "mimetype": "text/x-python",
   "name": "python",
   "nbconvert_exporter": "python",
   "pygments_lexer": "ipython3",
   "version": "3.7.0"
  }
 },
 "nbformat": 4,
 "nbformat_minor": 2
}
