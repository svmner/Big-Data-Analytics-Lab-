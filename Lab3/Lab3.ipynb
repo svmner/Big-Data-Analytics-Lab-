{
 "cells": [
  {
   "cell_type": "code",
   "execution_count": 78,
   "metadata": {},
   "outputs": [],
   "source": [
    "import pyspark\n",
    "import sys \n",
    "from pyspark import SparkContext\n",
    "from pyspark import SparkConf\n",
    "from pyspark.sql import SparkSession\n",
    "from pyspark.sql.functions import col \n",
    "from pyspark.sql.functions import expr\n",
    "\n",
    "\n"
   ]
  },
  {
   "cell_type": "markdown",
   "metadata": {},
   "source": [
    "## Sample Reading of Text File "
   ]
  },
  {
   "cell_type": "code",
   "execution_count": 79,
   "metadata": {},
   "outputs": [
    {
     "name": "stdout",
     "output_type": "stream",
     "text": [
      "+--------------------+\n",
      "|               value|\n",
      "+--------------------+\n",
      "|Hello world world...|\n",
      "|sample text word ...|\n",
      "|Word PySpark PySp...|\n",
      "|Processing text d...|\n",
      "|example example e...|\n",
      "+--------------------+\n",
      "\n"
     ]
    }
   ],
   "source": [
    "spark = SparkSession.builder.getOrCreate()\n",
    "df = spark.read.text(\"wordcount.txt\")\n",
    "\n",
    "df.show()\n"
   ]
  },
  {
   "cell_type": "markdown",
   "metadata": {},
   "source": [
    "## Clean and Preprocess Data "
   ]
  },
  {
   "cell_type": "code",
   "execution_count": 80,
   "metadata": {},
   "outputs": [
    {
     "name": "stdout",
     "output_type": "stream",
     "text": [
      "+-----+-----+------------+------------+------------+------------+-------+------+------+------+-------+--------+\n",
      "| id_1| id_2|cmp_fname_c1|cmp_fname_c2|cmp_lname_c1|cmp_lname_c2|cmp_sex|cmp_bd|cmp_bm|cmp_by|cmp_plz|is_match|\n",
      "+-----+-----+------------+------------+------------+------------+-------+------+------+------+-------+--------+\n",
      "|53719|60579|         1.0|        null|         1.0|        null|      1|     1|     1|     1|      1|    true|\n",
      "|58967|58973|         1.0|        null|         1.0|        null|      1|     1|     1|     1|      1|    true|\n",
      "| 1499|23331|         1.0|        null|         1.0|        null|      1|     1|     1|     1|      1|    true|\n",
      "|18441|36183|         1.0|         1.0|         1.0|        null|      1|     1|     1|     1|      1|    true|\n",
      "| 8902|11508|         1.0|        null|         1.0|        null|      1|     1|     1|     1|      1|    true|\n",
      "|17704|21348|         1.0|        null|         1.0|        null|      1|     1|     1|     1|      1|    true|\n",
      "| 1837|31102|         1.0|        null|         1.0|        null|      0|     1|     1|     1|      1|    true|\n",
      "|42566|46904|         1.0|         1.0|         1.0|        null|      1|     1|     1|     1|      1|    true|\n",
      "| 5065|14199|         1.0|        null|         1.0|        null|      1|     1|     1|     0|      1|    true|\n",
      "|28241|29523|         1.0|        null|         1.0|        null|      1|     1|     1|     1|      1|    true|\n",
      "|22682|60001|         1.0|        null|         1.0|        null|      1|     1|     1|     1|      0|    true|\n",
      "| 1496| 2695|         1.0|        null|         1.0|        null|      1|     1|     1|     1|      1|    true|\n",
      "|13988|13989|         1.0|        null|         1.0|        null|      1|     1|     1|     1|      1|    true|\n",
      "|28481|40484|         1.0|         1.0|         1.0|        null|      1|     1|     1|     1|      1|    true|\n",
      "|41406|42799|         1.0|        null|         1.0|        null|      1|     1|     1|     1|      1|    true|\n",
      "|44192|67350|         1.0|        null|         1.0|        null|      1|     1|     1|     1|      1|    true|\n",
      "|42306|45383|         1.0|        null|         1.0|        null|      1|     1|     1|     1|      1|    true|\n",
      "|11084|11541|         1.0|        null|         1.0|        null|      1|     1|     1|     1|      1|    true|\n",
      "|25644|37723|         1.0|        null|         1.0|        null|      1|     1|     1|     1|      1|    true|\n",
      "|29306|53194|         1.0|        null|         1.0|        null|      1|     1|     1|     1|      1|    true|\n",
      "+-----+-----+------------+------------+------------+------------+-------+------+------+------+-------+--------+\n",
      "only showing top 20 rows\n",
      "\n",
      "Count of Dataframe with all 10 .csv files loaded =  5749132\n"
     ]
    }
   ],
   "source": [
    "spark = SparkSession.builder.getOrCreate()\n",
    "\n",
    "df = spark.read.option(\"header\",\"true\").option(\"nullValue\",\"?\").option(\"inferSchema\",\"true\").csv(\"/home/lplab/Desktop/210962021/Lab3/files/\")\n",
    "\n",
    "df.show()\n",
    "\n",
    "print(\"Count of Dataframe with all 10 .csv files loaded = \",df.count())\n"
   ]
  },
  {
   "cell_type": "code",
   "execution_count": 81,
   "metadata": {},
   "outputs": [
    {
     "name": "stdout",
     "output_type": "stream",
     "text": [
      "root\n",
      " |-- id_1: integer (nullable = true)\n",
      " |-- id_2: integer (nullable = true)\n",
      " |-- cmp_fname_c1: double (nullable = true)\n",
      " |-- cmp_fname_c2: double (nullable = true)\n",
      " |-- cmp_lname_c1: double (nullable = true)\n",
      " |-- cmp_lname_c2: double (nullable = true)\n",
      " |-- cmp_sex: integer (nullable = true)\n",
      " |-- cmp_bd: integer (nullable = true)\n",
      " |-- cmp_bm: integer (nullable = true)\n",
      " |-- cmp_by: integer (nullable = true)\n",
      " |-- cmp_plz: integer (nullable = true)\n",
      " |-- is_match: boolean (nullable = true)\n",
      "\n",
      "+-----+-----+-----------------+-----------------+-----------------+------------+-------+------+------+------+-------+--------+\n",
      "| id_1| id_2|     cmp_fname_c1|     cmp_fname_c2|     cmp_lname_c1|cmp_lname_c2|cmp_sex|cmp_bd|cmp_bm|cmp_by|cmp_plz|is_match|\n",
      "+-----+-----+-----------------+-----------------+-----------------+------------+-------+------+------+------+-------+--------+\n",
      "|84014|88799|            0.125|             null|             0.25|        null|      0|     1|     1|     1|      0|   false|\n",
      "|28507|84127|              1.0|             null|0.142857142857143|        null|      1|     1|     0|     0|      0|   false|\n",
      "|26294|84213|              0.4|             null|0.222222222222222|        null|      1|     1|     0|     0|      0|   false|\n",
      "|48606|49523|              0.2|0.166666666666667|              0.0|        null|      1|     1|     1|     1|      0|   false|\n",
      "|47435|83472|0.444444444444444|             null|0.111111111111111|        null|      1|     0|     1|     0|      0|   false|\n",
      "| 6951|25167|              1.0|             null|0.111111111111111|        null|      1|     0|     1|     0|      0|   false|\n",
      "|21573|26347|              1.0|             null|0.166666666666667|        null|      1|     0|     1|     0|      0|   false|\n",
      "|32055|81442|0.166666666666667|             null|              1.0|        null|      1|     0|     0|     0|      0|   false|\n",
      "|40023|88896|0.166666666666667|             null|              1.0|        null|      1|     0|     0|     0|      0|   false|\n",
      "|47138|63683|              1.0|             null|            0.125|        null|      1|     0|     1|     0|      0|   false|\n",
      "|13319|40944|              1.0|             null|              0.2|        null|      1|     1|     0|     0|      0|   false|\n",
      "| 8103|22079|             0.75|             null|              0.0|        null|      1|     0|     0|     1|      0|   false|\n",
      "|16768|66672|              1.0|             null|0.111111111111111|        null|      1|     0|     1|     0|      0|   false|\n",
      "| 9928|79825|            0.375|             null|              0.8|        null|      1|     0|     0|     0|      0|   false|\n",
      "|33656|62750|              1.0|             null|              0.2|        null|      1|     1|     0|     0|      0|   false|\n",
      "|26899|63628|0.166666666666667|             null|              0.0|        null|      1|     1|     1|     1|      0|   false|\n",
      "|33329|96979|              1.0|             null|              0.0|        null|      1|     0|     1|     0|      0|   false|\n",
      "| 5681|50052|              0.0|             null|              1.0|        null|      1|     0|     0|     0|      0|   false|\n",
      "|66871|74041|              1.0|             null|0.142857142857143|        null|      0|     0|     0|     1|   null|   false|\n",
      "|45570|52809|              1.0|             null|            0.125|        null|      1|     1|     0|     0|      0|   false|\n",
      "+-----+-----+-----------------+-----------------+-----------------+------------+-------+------+------+------+-------+--------+\n",
      "only showing top 20 rows\n",
      "\n"
     ]
    }
   ],
   "source": [
    "df.printSchema()\n",
    "\n",
    "df1 = df[df['is_match'] == 'false']\n",
    "df1.show()\n"
   ]
  },
  {
   "cell_type": "code",
   "execution_count": 82,
   "metadata": {},
   "outputs": [
    {
     "name": "stdout",
     "output_type": "stream",
     "text": [
      "+--------+-------+\n",
      "|is_match|  count|\n",
      "+--------+-------+\n",
      "|   false|5728201|\n",
      "|    true|  20931|\n",
      "+--------+-------+\n",
      "\n",
      "+-------+-------------------+-------------------+\n",
      "|summary|       cmp_fname_c1|       cmp_fname_c2|\n",
      "+-------+-------------------+-------------------+\n",
      "|  count|            5748125|             103698|\n",
      "|   mean| 0.7129024704429502| 0.9000176718903219|\n",
      "| stddev|0.38875835961627936|0.27131761057823345|\n",
      "|    min|                0.0|                0.0|\n",
      "|    max|                1.0|                1.0|\n",
      "+-------+-------------------+-------------------+\n",
      "\n",
      "+-------+-------------------+-------------------+\n",
      "|summary|       cmp_fname_c1|       cmp_fname_c2|\n",
      "+-------+-------------------+-------------------+\n",
      "|  count|              20922|               1333|\n",
      "|   mean| 0.9973163859635039| 0.9898900320318174|\n",
      "| stddev|0.03650667584833679|0.08251973727615235|\n",
      "|    min|                0.0|                0.0|\n",
      "|    max|                1.0|                1.0|\n",
      "+-------+-------------------+-------------------+\n",
      "\n",
      "+-------+-------------------+------------------+\n",
      "|summary|       cmp_fname_c1|      cmp_fname_c2|\n",
      "+-------+-------------------+------------------+\n",
      "|  count|            5727203|            102365|\n",
      "|   mean| 0.7118634802167386|0.8988473514090184|\n",
      "| stddev|0.38908060096985375|0.2727209029401023|\n",
      "|    min|                0.0|               0.0|\n",
      "|    max|                1.0|               1.0|\n",
      "+-------+-------------------+------------------+\n",
      "\n"
     ]
    }
   ],
   "source": [
    "df.groupBy(\"is_match\").count().orderBy(col(\"count\").desc()).show()\n",
    "\n",
    "summary = df.describe()\n",
    "summary.select(\"summary\", \"cmp_fname_c1\", \"cmp_fname_c2\").show()\n",
    "\n",
    "matches = df.where(\"is_match = true\")\n",
    "match_summary = matches.describe()\n",
    "match_summary.select(\"summary\",\"cmp_fname_c1\",\"cmp_fname_c2\").show()\n",
    "\n",
    "misses = df.where(\"is_match = false\")\n",
    "misses_summary = misses.describe()\n",
    "misses_summary.select(\"summary\",\"cmp_fname_c1\",\"cmp_fname_c2\").show()"
   ]
  },
  {
   "cell_type": "markdown",
   "metadata": {},
   "source": [
    "## Computing Similarity Score "
   ]
  },
  {
   "cell_type": "code",
   "execution_count": 83,
   "metadata": {},
   "outputs": [
    {
     "name": "stdout",
     "output_type": "stream",
     "text": [
      "+-----+--------+\n",
      "|score|is_match|\n",
      "+-----+--------+\n",
      "|  5.0|    true|\n",
      "|  5.0|    true|\n",
      "|  5.0|    true|\n",
      "|  5.0|    true|\n",
      "|  5.0|    true|\n",
      "|  5.0|    true|\n",
      "|  5.0|    true|\n",
      "|  5.0|    true|\n",
      "|  4.0|    true|\n",
      "|  5.0|    true|\n",
      "|  4.0|    true|\n",
      "|  5.0|    true|\n",
      "|  5.0|    true|\n",
      "|  5.0|    true|\n",
      "|  5.0|    true|\n",
      "|  5.0|    true|\n",
      "|  5.0|    true|\n",
      "|  5.0|    true|\n",
      "|  5.0|    true|\n",
      "|  5.0|    true|\n",
      "+-----+--------+\n",
      "only showing top 20 rows\n",
      "\n"
     ]
    }
   ],
   "source": [
    "good_features = [\"cmp_lname_c1\",\"cmp_plz\",\"cmp_by\",\"cmp_bd\",\"cmp_bm\"]\n",
    "\n",
    "sum_expression = \" + \".join(good_features)\n",
    "\n",
    "scored = df.fillna(0,subset = good_features).withColumn('score',expr(sum_expression)).select('score','is_match')\n",
    "\n",
    "scored.show()"
   ]
  },
  {
   "cell_type": "markdown",
   "metadata": {},
   "source": [
    "## Calculating Precision,Recall and F1-Score"
   ]
  },
  {
   "cell_type": "code",
   "execution_count": 84,
   "metadata": {},
   "outputs": [
    {
     "name": "stdout",
     "output_type": "stream",
     "text": [
      "Precision: 0.9703831132601822\n",
      "Recall: 0.9971334384405905\n",
      "F1 Score: 0.9835764273427743\n"
     ]
    }
   ],
   "source": [
    "def calculate_metrics(scored, threshold):\n",
    "    tp = scored.filter((col('score') >= threshold) & (col('is_match') == 'true')).count()\n",
    "    fp = scored.filter((col('score') >= threshold) & (col('is_match') == 'false')).count()\n",
    "    fn = scored.filter((col('score') < threshold) & (col('is_match') == 'true')).count()\n",
    "\n",
    "    precision = tp / (tp + fp) if (tp + fp) != 0 else 0\n",
    "    recall = tp / (tp + fn) if (tp + fn) != 0 else 0\n",
    "    f1_score = 2 * (precision * recall) / (precision + recall) if (precision + recall) != 0 else 0\n",
    "\n",
    "    return precision, recall, f1_score\n",
    "\n",
    "threshold = 4.0\n",
    "\n",
    "precision, recall, f1_score = calculate_metrics(scored, threshold)\n",
    "\n",
    "print(f\"Precision: {precision}\")\n",
    "print(f\"Recall: {recall}\")\n",
    "print(f\"F1 Score: {f1_score}\")"
   ]
  }
 ],
 "metadata": {
  "kernelspec": {
   "display_name": "base",
   "language": "python",
   "name": "python3"
  },
  "language_info": {
   "codemirror_mode": {
    "name": "ipython",
    "version": 3
   },
   "file_extension": ".py",
   "mimetype": "text/x-python",
   "name": "python",
   "nbconvert_exporter": "python",
   "pygments_lexer": "ipython3",
   "version": "3.7.0"
  }
 },
 "nbformat": 4,
 "nbformat_minor": 2
}
