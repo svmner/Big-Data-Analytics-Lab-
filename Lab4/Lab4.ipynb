{
 "cells": [
  {
   "cell_type": "markdown",
   "metadata": {},
   "source": [
    "## Demonstrate how to load a dataset suitable for recommendation systems into a PySpark Dataframe"
   ]
  },
  {
   "cell_type": "code",
   "execution_count": 1,
   "metadata": {},
   "outputs": [
    {
     "name": "stderr",
     "output_type": "stream",
     "text": [
      "/home/lplab/anaconda3/lib/python3.7/site-packages/pyspark/context.py:317: FutureWarning: Python 3.7 support is deprecated in Spark 3.4.\n",
      "  warnings.warn(\"Python 3.7 support is deprecated in Spark 3.4.\", FutureWarning)\n"
     ]
    },
    {
     "name": "stdout",
     "output_type": "stream",
     "text": [
      "+--------------+----------+-----+----------+-----------+\n",
      "|       user_id|product_id|score|      time|helpfulness|\n",
      "+--------------+----------+-----+----------+-----------+\n",
      "|A141HP4LYPWMSR|B003AI2VGA|  3.0|1182729600|        7/7|\n",
      "|A328S9RN3U5M68|B003AI2VGA|  3.0|1181952000|        4/4|\n",
      "|A1I7QGUDP043DG|B003AI2VGA|  5.0|1164844800|       8/10|\n",
      "|A1M5405JH9THP9|B003AI2VGA|  3.0|1197158400|        1/1|\n",
      "| ATXL536YX71TR|B003AI2VGA|  3.0|1188345600|        1/1|\n",
      "|A3QYDL5CDNYN66|B003AI2VGA|  2.0|1229040000|        0/0|\n",
      "| AQJVNDW6YZFQS|B003AI2VGA|  1.0|1164153600|       3/11|\n",
      "| AD4CDZK7D31XP|B00006HAXW|  5.0|1060473600|      64/65|\n",
      "|A3Q4S5DFVPB70D|B00006HAXW|  5.0|1041292800|      26/26|\n",
      "|A2P7UB02HAVEPB|B00006HAXW|  5.0|1061164800|      24/24|\n",
      "|A2TX99AZKDK0V7|B00006HAXW|  4.0|1039564800|      22/23|\n",
      "| AFC8IKR407HSK|B00006HAXW|  5.0|1045526400|      14/14|\n",
      "|A1FRPGQYQTAOR1|B00006HAXW|  5.0|1062979200|        9/9|\n",
      "|A1RSDE90N6RSZF|B00006HAXW|  5.0|1042502400|        9/9|\n",
      "|A1OUBOGB5970AO|B00006HAXW|  4.0|1049846400|        7/7|\n",
      "|A3NPHQVIY59Y0Y|B00006HAXW|  5.0|1047945600|        7/7|\n",
      "| AFKMBAY28XO8A|B00006HAXW|  5.0|1038787200|        7/7|\n",
      "| A66KMXH9V7OGU|B00006HAXW|  5.0|1177804800|        4/4|\n",
      "| AFJ27ZV9183B8|B00006HAXW|  5.0|1200096000|        3/3|\n",
      "| AXMKAXC0TR9AW|B00006HAXW|  5.0|1082592000|        5/6|\n",
      "+--------------+----------+-----+----------+-----------+\n",
      "only showing top 20 rows\n",
      "\n"
     ]
    }
   ],
   "source": [
    "from pyspark.sql import SparkSession\n",
    "from pyspark.sql import functions as f \n",
    "import findspark\n",
    "\n",
    "findspark.init()\n",
    "\n",
    "spark = SparkSession.builder.getOrCreate()\n",
    "\n",
    "dataset_path = \"./movies 1.json\"\n",
    "\n",
    "df = spark.read.json(dataset_path).select(\"user_id\",\"product_id\",\"score\",\"time\",\"helpfulness\")\n",
    "\n",
    "df.show()"
   ]
  },
  {
   "cell_type": "markdown",
   "metadata": {},
   "source": [
    "## Implement a PySpark script that splits the data and trains a recommendation model"
   ]
  },
  {
   "cell_type": "code",
   "execution_count": 2,
   "metadata": {},
   "outputs": [
    {
     "name": "stdout",
     "output_type": "stream",
     "text": [
      "+--------------+----------+-----+----------+-----------+----------+-------------+\n",
      "|       user_id|product_id|score|      time|helpfulness|user_index|product_index|\n",
      "+--------------+----------+-----+----------+-----------+----------+-------------+\n",
      "|A141HP4LYPWMSR|B003AI2VGA|  3.0|1182729600|        7/7|      32.0|        731.0|\n",
      "|A328S9RN3U5M68|B003AI2VGA|  3.0|1181952000|        4/4|       3.0|        731.0|\n",
      "|A1I7QGUDP043DG|B003AI2VGA|  5.0|1164844800|       8/10|     312.0|        731.0|\n",
      "|A1M5405JH9THP9|B003AI2VGA|  3.0|1197158400|        1/1|   10917.0|        731.0|\n",
      "| ATXL536YX71TR|B003AI2VGA|  3.0|1188345600|        1/1|     173.0|        731.0|\n",
      "|A3QYDL5CDNYN66|B003AI2VGA|  2.0|1229040000|        0/0|   28065.0|        731.0|\n",
      "| AQJVNDW6YZFQS|B003AI2VGA|  1.0|1164153600|       3/11|   34353.0|        731.0|\n",
      "| AD4CDZK7D31XP|B00006HAXW|  5.0|1060473600|      64/65|   31316.0|        527.0|\n",
      "|A3Q4S5DFVPB70D|B00006HAXW|  5.0|1041292800|      26/26|   27884.0|        527.0|\n",
      "|A2P7UB02HAVEPB|B00006HAXW|  5.0|1061164800|      24/24|   19575.0|        527.0|\n",
      "|A2TX99AZKDK0V7|B00006HAXW|  4.0|1039564800|      22/23|   20592.0|        527.0|\n",
      "| AFC8IKR407HSK|B00006HAXW|  5.0|1045526400|      14/14|   31841.0|        527.0|\n",
      "|A1FRPGQYQTAOR1|B00006HAXW|  5.0|1062979200|        9/9|    9472.0|        527.0|\n",
      "|A1RSDE90N6RSZF|B00006HAXW|  5.0|1042502400|        9/9|   12215.0|        527.0|\n",
      "|A1OUBOGB5970AO|B00006HAXW|  4.0|1049846400|        7/7|   11514.0|        527.0|\n",
      "|A3NPHQVIY59Y0Y|B00006HAXW|  5.0|1047945600|        7/7|   27333.0|        527.0|\n",
      "| AFKMBAY28XO8A|B00006HAXW|  5.0|1038787200|        7/7|   31888.0|        527.0|\n",
      "| A66KMXH9V7OGU|B00006HAXW|  5.0|1177804800|        4/4|   29767.0|        527.0|\n",
      "| AFJ27ZV9183B8|B00006HAXW|  5.0|1200096000|        3/3|    5346.0|        527.0|\n",
      "| AXMKAXC0TR9AW|B00006HAXW|  5.0|1082592000|        5/6|    5905.0|        527.0|\n",
      "+--------------+----------+-----+----------+-----------+----------+-------------+\n",
      "only showing top 20 rows\n",
      "\n"
     ]
    }
   ],
   "source": [
    "from pyspark.ml.recommendation import ALS\n",
    "from pyspark.ml.feature import StringIndexer\n",
    "\n",
    "# Convert Alpha Numeric values to Numeric using StringIndexer\n",
    "\n",
    "df = df.drop(\"user_index\")\n",
    "df1 = df\n",
    "\n",
    "user_indexer = StringIndexer(inputCol = \"user_id\", outputCol = \"user_index\").fit(df)\n",
    "df1 = user_indexer.transform(df)\n",
    "\n",
    "product_indexer = StringIndexer(inputCol = \"product_id\",outputCol = \"product_index\").fit(df1)\n",
    "df1 = product_indexer.transform(df1)\n",
    "df1.show()\n",
    "\n",
    "als = ALS(maxIter=10, regParam = 0.5, userCol = \"user_index\", itemCol = \"product_index\", ratingCol = \"score\",coldStartStrategy = \"drop\")\n",
    "train,test = df1.randomSplit([0.8,0.2])\n",
    "\n",
    "alsModel = als.fit(train)"
   ]
  },
  {
   "cell_type": "markdown",
   "metadata": {},
   "source": [
    "## Implement a PySpark script using the ALS algorithm for collaborative filtering"
   ]
  },
  {
   "cell_type": "code",
   "execution_count": 3,
   "metadata": {},
   "outputs": [
    {
     "name": "stdout",
     "output_type": "stream",
     "text": [
      "+--------------+----------+-----+----------+-----------+----------+-------------+----------+\n",
      "|       user_id|product_id|score|      time|helpfulness|user_index|product_index|prediction|\n",
      "+--------------+----------+-----+----------+-----------+----------+-------------+----------+\n",
      "|A13OMT8D4GPIBV|6304286961|  4.0|1189296000|        0/0|    1143.0|         85.0| 4.0525866|\n",
      "| AQ01Q3070LT29|B000063W1R|  1.0|1110240000|       0/33|      53.0|         37.0| 3.6974883|\n",
      "|A1TW9ZGRDQQZ2Y|B0001G6PZC|  5.0|1070150400|      12/14|     133.0|          7.0| 3.3604755|\n",
      "|A3FU2A91KSXOHZ|B002OHDRF2|  5.0|1329436800|        0/0|    4531.0|         21.0|  4.301674|\n",
      "|A3OIZEXS8CGBOD|B0001G6PZC|  1.0|1082851200|      23/42|    1005.0|          7.0|0.88350415|\n",
      "|A1TTN5AGHRRF2M|B002OHDRF2|  4.0|1259798400|        2/3|     613.0|         21.0| 3.1643414|\n",
      "|A1HO9J4DCQDGP9|B0001G6PZC|  5.0|1111795200|        2/3|     597.0|          7.0|   3.87507|\n",
      "|A2EIR50X0I6HHA|B0006FFRD4|  2.0|1221782400|       3/18|    3441.0|       1116.0| 1.8201599|\n",
      "| A3EI4K5U61UZ7|B000063W82|  5.0|1113782400|        2/4|    4474.0|          6.0| 1.0747697|\n",
      "|A1X15AQVSCKKRG|B0001G6PZC|  5.0|1104278400|        3/3|    1331.0|          7.0|  3.774989|\n",
      "|A2MHE59W0CVSWO|B002OHDRF2|  5.0|1259798400|        1/2|    3661.0|         21.0|  4.301674|\n",
      "|A3DWLI9VIYXI16|6304286961|  4.0|1246924800|        1/1|    4452.0|         85.0| 3.4877152|\n",
      "|A2ELFPQQ2FTC8R|6305508569|  1.0| 969235200|      22/29|    3445.0|        961.0| 4.1205215|\n",
      "|A2HT8T5LF487VV|B002OHDRF2|  2.0|1262390400|        1/4|    1441.0|         21.0| 1.8638753|\n",
      "|A35531WG0CE5UE|B0012EM5GK|  5.0|1206921600|        1/1|    4208.0|        303.0| 4.4273744|\n",
      "|A1PL8JA0TEHBVN|B0001G6PZC|  5.0|1152921600|        2/3|    1296.0|          7.0| 4.5662823|\n",
      "|A1SYDZC56RH2SK|B002OHDRF2|  5.0|1257292800|        4/9|    2778.0|         21.0|  4.301674|\n",
      "|A3GA09FYFKL4EY|B0001G6PZC|  5.0|1094083200|        1/4|     412.0|          7.0| 3.9194336|\n",
      "|A3R3I38IZI0618|B002OHDRF2|  4.0|1260576000|        0/2|    4848.0|         21.0| 3.4413393|\n",
      "|A1FNES0QEBJZD1|B0001G6PZC|  4.0|1337817600|        2/2|    1235.0|          7.0| 3.6225097|\n",
      "+--------------+----------+-----+----------+-----------+----------+-------------+----------+\n",
      "only showing top 20 rows\n",
      "\n"
     ]
    }
   ],
   "source": [
    "predictions = alsModel.transform(test)\n",
    "predictions.show()"
   ]
  },
  {
   "cell_type": "code",
   "execution_count": 4,
   "metadata": {},
   "outputs": [
    {
     "name": "stdout",
     "output_type": "stream",
     "text": [
      "+----------+--------------+-------------+----------+\n",
      "|product_id|       user_id|product_index|user_index|\n",
      "+----------+--------------+-------------+----------+\n",
      "|B000063W1R|A2NJO6YE954DBH|         37.0|       1.0|\n",
      "|B000UGBOT0|A2NJO6YE954DBH|         78.0|       1.0|\n",
      "|B00005M1Y0|A2NJO6YE954DBH|         66.0|       1.0|\n",
      "|B001QB5SCM|A2NJO6YE954DBH|         87.0|       1.0|\n",
      "|B00178U3CY|A2NJO6YE954DBH|        416.0|       1.0|\n",
      "|B00005Y6YB|A2NJO6YE954DBH|         32.0|       1.0|\n",
      "|B00005Y6YM|A2NJO6YE954DBH|        366.0|       1.0|\n",
      "|B000YIGNCW|A2NJO6YE954DBH|        226.0|       1.0|\n",
      "+----------+--------------+-------------+----------+\n",
      "\n",
      "+----------+--------------+-------------+----------+----------+\n",
      "|product_id|       user_id|product_index|user_index|prediction|\n",
      "+----------+--------------+-------------+----------+----------+\n",
      "|B00005Y6YB|A2NJO6YE954DBH|         32.0|       1.0| 3.9981668|\n",
      "|B000UGBOT0|A2NJO6YE954DBH|         78.0|       1.0| 3.8675025|\n",
      "|B001QB5SCM|A2NJO6YE954DBH|         87.0|       1.0| 3.6967328|\n",
      "+----------+--------------+-------------+----------+----------+\n",
      "only showing top 3 rows\n",
      "\n"
     ]
    }
   ],
   "source": [
    "user1 = test.filter(test['user_index'] == 1.0).select(['product_id','user_id','product_index','user_index'])\n",
    "user1.show()\n",
    "\n",
    "# Recommendations for a Single Specific User(3 Items)\n",
    "\n",
    "recommendations = alsModel.transform(user1)\n",
    "recommendations.orderBy('prediction',ascending = False).show(3)"
   ]
  },
  {
   "cell_type": "code",
   "execution_count": 5,
   "metadata": {},
   "outputs": [
    {
     "name": "stdout",
     "output_type": "stream",
     "text": [
      "+----------+-------------------------------------------------------+\n",
      "|user_index|recommendations                                        |\n",
      "+----------+-------------------------------------------------------+\n",
      "|31        |[{1381, 4.221618}, {632, 4.157598}, {870, 3.9762528}]  |\n",
      "|34        |[{632, 4.4065833}, {1381, 4.2414126}, {950, 4.0590825}]|\n",
      "|53        |[{1381, 4.8835588}, {632, 4.7488575}, {293, 4.5494223}]|\n",
      "|65        |[{818, 4.9362164}, {632, 4.9025645}, {698, 4.798117}]  |\n",
      "|78        |[{1381, 4.15531}, {632, 4.0624266}, {950, 3.9154723}]  |\n",
      "|81        |[{1381, 4.1988163}, {950, 4.1114035}, {632, 4.046092}] |\n",
      "|85        |[{1381, 4.724676}, {632, 4.583629}, {950, 4.4981704}]  |\n",
      "|101       |[{632, 4.248592}, {1338, 4.056736}, {1337, 4.056736}]  |\n",
      "|108       |[{632, 4.559693}, {1381, 4.482481}, {950, 4.3110886}]  |\n",
      "|115       |[{1381, 4.8148413}, {632, 4.8041644}, {193, 4.6484275}]|\n",
      "+----------+-------------------------------------------------------+\n",
      "only showing top 10 rows\n",
      "\n"
     ]
    }
   ],
   "source": [
    "#Recommendations for All Users(3 items)\n",
    "\n",
    "recommended_movie_df = alsModel.recommendForAllUsers(3)\n",
    "recommended_movie_df.show(10,False)"
   ]
  },
  {
   "cell_type": "markdown",
   "metadata": {},
   "source": [
    "## Implement code to evaluate the performace of the ALS Model using appropriate metrics"
   ]
  },
  {
   "cell_type": "code",
   "execution_count": 6,
   "metadata": {},
   "outputs": [
    {
     "name": "stdout",
     "output_type": "stream",
     "text": [
      "Mean Squared Error(MSE) :2.192201098242345\n",
      "Root Mean Squared Error(RMSE): 1.4806083541039288\n",
      "Mean Absolute Error(MAE): 1.1131567133495817\n"
     ]
    }
   ],
   "source": [
    "from pyspark.ml.evaluation import RegressionEvaluator\n",
    "\n",
    "evaluator_mse = RegressionEvaluator(metricName = 'mse', labelCol = 'score', predictionCol = 'prediction')\n",
    "mse = evaluator_mse.evaluate(predictions)\n",
    "print(f'Mean Squared Error(MSE) :{mse}')\n",
    "\n",
    "evaluator_rmse = RegressionEvaluator(metricName = 'rmse', labelCol = 'score', predictionCol = 'prediction')\n",
    "rmse = evaluator_rmse.evaluate(predictions)\n",
    "print(f'Root Mean Squared Error(RMSE): {rmse}')\n",
    "\n",
    "evaluator_mae = RegressionEvaluator(metricName = 'mae', labelCol = 'score', predictionCol = 'prediction')\n",
    "mae = evaluator_mae.evaluate(predictions)\n",
    "print(f'Mean Absolute Error(MAE): {mae}')"
   ]
  },
  {
   "cell_type": "markdown",
   "metadata": {},
   "source": [
    "## Q1-Q4 on RDD"
   ]
  },
  {
   "cell_type": "code",
   "execution_count": 7,
   "metadata": {},
   "outputs": [
    {
     "data": {
      "text/plain": [
       "PythonRDD[373] at RDD at PythonRDD.scala:53"
      ]
     },
     "execution_count": 7,
     "metadata": {},
     "output_type": "execute_result"
    }
   ],
   "source": [
    "import json\n",
    "from pyspark.sql import SparkSession\n",
    "\n",
    "# Create a SparkSession\n",
    "spark = SparkSession.builder.getOrCreate()\n",
    "sc = spark.sparkContext\n",
    "\n",
    "fields = ['product_id',\n",
    "          'user_id',\n",
    "          'score',\n",
    "          'time']\n",
    "\n",
    "fields2 = ['product_id',\n",
    "           'user_id',\n",
    "           'review',\n",
    "           'profile_name',\n",
    "           'helpfulness',\n",
    "           'score',\n",
    "           'time']\n",
    "\n",
    "fields3 = ['product_id',\n",
    "           'user_id',\n",
    "           'time']\n",
    "\n",
    "fields4 = ['user_id',\n",
    "           'score',\n",
    "           'time']\n",
    "\n",
    "def validate(line):\n",
    "    for field in fields2:\n",
    "        if field not in line: return False\n",
    "    return True\n",
    "\n",
    "reviews_raw = sc.textFile('/home/lplab/Desktop/210962021/Lab4/movies 1.json')\n",
    "\n",
    "reviews = reviews_raw.map(lambda line: json.loads(line)).filter(validate)\n",
    "reviews.cache()"
   ]
  },
  {
   "cell_type": "code",
   "execution_count": 8,
   "metadata": {},
   "outputs": [
    {
     "data": {
      "text/plain": [
       "[{'user_id': 'A141HP4LYPWMSR',\n",
       "  'product_id': 'B003AI2VGA',\n",
       "  'review': 'Synopsis: On the daily trek from Juarez, Mexico to El Paso, Texas an ever increasing number of female workers are found raped and murdered in the surrounding desert. Investigative reporter Karina Danes (Minnie Driver) arrives from Los Angeles to pursue the story and angers both the local police and the factory owners who employee the undocumented aliens with her pointed questions and relentless quest for the truth.<br /><br />Her story goes nationwide when a young girl named Mariela (Ana Claudia Talancon) survives a vicious attack and walks out of the desert crediting the Blessed Virgin for her rescue. Her story is further enhanced when the \"Wounds of Christ\" (stigmata) appear in her palms. She also claims to have received a message of hope for the Virgin Mary and soon a fanatical movement forms around her to fight against the evil that holds such a stranglehold on the area.<br /><br />Critique: Possessing a lifelong fascination with such esoteric matters as Catholic mysticism, miracles and the mysterious appearance of the stigmata, I was immediately attracted to the \\'05 DVD release `Virgin of Juarez\\'. The film offers a rather unique storyline blending current socio-political concerns, the constant flow of Mexican migrant workers back and forth across the U.S./Mexican border and the traditional Catholic beliefs of the Hispanic population. I must say I was quite surprised by the unexpected route taken by the plot and the means and methods by which the heavenly message unfolds.<br /><br />`Virgin of Juarez\\' is not a film that you would care to watch over and over again, but it was interesting enough to merit at least one viewing. Minnie Driver delivers a solid performance and Ana Claudia Talancon is perfect as the fragile and innocent visionary Mariela. Also starring Esai Morales and Angus Macfadyen (Braveheart).',\n",
       "  'summary': '\"There Is So Much Darkness Now ~ Come For The Miracle\"',\n",
       "  'profile_name': 'Brian E. Erland \"Rainbow Sphinx\"',\n",
       "  'helpfulness': '7/7',\n",
       "  'time': 1182729600,\n",
       "  'score': 3.0}]"
      ]
     },
     "execution_count": 8,
     "metadata": {},
     "output_type": "execute_result"
    }
   ],
   "source": [
    "reviews.take(1)"
   ]
  },
  {
   "cell_type": "code",
   "execution_count": 9,
   "metadata": {},
   "outputs": [
    {
     "name": "stdout",
     "output_type": "stream",
     "text": [
      "Number of train samples:  39992\n",
      "Number of test samples:  10008\n"
     ]
    }
   ],
   "source": [
    "from pyspark.mllib.recommendation import ALS\n",
    "from numpy import array\n",
    "import hashlib\n",
    "import math\n",
    "\n",
    "def get_hash(s):\n",
    "    return int(hashlib.sha1(s).hexdigest(), 16) % (10 ** 8)\n",
    "\n",
    "ratings = reviews.map(lambda entry: tuple([get_hash(entry['user_id'].encode('utf-8')),get_hash(entry['product_id'].encode('utf-8')),int(entry['score'])]))\n",
    "\n",
    "train_data = ratings.filter(lambda entry: ((entry[0] + entry[1]) %10) >= 2)\n",
    "test_data = ratings.filter(lambda entry: ((entry[0] + entry[1]) %10) <2)\n",
    "train_data.cache()\n",
    "\n",
    "print (\"Number of train samples: \",train_data.count())\n",
    "print (\"Number of test samples: \",test_data.count())"
   ]
  },
  {
   "cell_type": "code",
   "execution_count": 10,
   "metadata": {},
   "outputs": [],
   "source": [
    "from math import sqrt\n",
    "\n",
    "rank = 20\n",
    "numIterations = 20\n",
    "model = ALS.train(train_data, rank, numIterations)\n",
    "\n",
    "def convertToFloat(lines):\n",
    "    returnedLine = []\n",
    "    for x in lines:\n",
    "        returnedLine.append(float(x))\n",
    "    return returnedLine\n",
    "\n",
    "unknown = test_data.map(lambda entry: (int(entry[0]),int(entry[1])))\n",
    "predictions = model.predictAll(unknown).map(lambda r: ((int(r[0]),int(r[1])),r[2]))\n",
    "true_and_predictions = test_data.map(lambda r: ((int(r[0]),int(r[1])),r[2])).join(predictions)\n",
    "MSE = true_and_predictions.map(lambda r: (int(r[1][0]) - int(r[1][1])**2).reduce(lambda x,y: x+y)/true_and_predictions.count())"
   ]
  },
  {
   "cell_type": "code",
   "execution_count": 11,
   "metadata": {},
   "outputs": [
    {
     "name": "stdout",
     "output_type": "stream",
     "text": [
      "User ID         Product ID      True Score      Predicted Score\n",
      "65965270        62577830        5               2.1131747398003418\n",
      "7383110         62577830        5               1.6965143450188906\n",
      "22477285        58302865        4               0.5464244490395593\n",
      "5479805         58302865        5               0.732133386847093\n",
      "39998009        30926631        3               4.005404037024607\n",
      "56482098        109252          3               1.029691343377415\n",
      "89302666        43077444        3               1.499224739524898\n",
      "6480656         80115934        5               5.003909118993409\n",
      "19486884        36531906        4               1.047248028578161\n",
      "99927280        47280600        5               1.6646441378729149\n"
     ]
    }
   ],
   "source": [
    "print(\"{:<15} {:<15} {:<15} {:<15}\".format(\"User ID\", \"Product ID\", \"True Score\", \"Predicted Score\"))\n",
    "\n",
    "for row in true_and_predictions.take(10):\n",
    "    user_id, product_id = row[0]\n",
    "    true_score, predicted_score = row[1]\n",
    "    print(\"{:<15} {:<15} {:<15} {:<15}\".format(user_id, product_id, true_score, predicted_score))\n"
   ]
  },
  {
   "cell_type": "code",
   "execution_count": 12,
   "metadata": {},
   "outputs": [
    {
     "name": "stdout",
     "output_type": "stream",
     "text": [
      "Mean Squared Error (MSE): 7.062586919528138\n",
      "Root Mean Squared Error (RMSE): 2.6575528065361445\n",
      "Mean Absolute Error (MAE): 1.9645283756709189\n"
     ]
    }
   ],
   "source": [
    "MSE = true_and_predictions.map(lambda r: (r[1][0] - r[1][1])**2).mean()\n",
    "\n",
    "RMSE = sqrt(MSE)\n",
    "\n",
    "MAE = true_and_predictions.map(lambda r: abs(r[1][0] - r[1][1])).mean()\n",
    "\n",
    "print(\"Mean Squared Error (MSE): {}\".format(MSE))\n",
    "print(\"Root Mean Squared Error (RMSE): {}\".format(RMSE))\n",
    "print(\"Mean Absolute Error (MAE): {}\".format(MAE))\n"
   ]
  }
 ],
 "metadata": {
  "kernelspec": {
   "display_name": "base",
   "language": "python",
   "name": "python3"
  },
  "language_info": {
   "codemirror_mode": {
    "name": "ipython",
    "version": 3
   },
   "file_extension": ".py",
   "mimetype": "text/x-python",
   "name": "python",
   "nbconvert_exporter": "python",
   "pygments_lexer": "ipython3",
   "version": "3.7.0"
  }
 },
 "nbformat": 4,
 "nbformat_minor": 2
}
